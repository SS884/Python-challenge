{
 "cells": [
  {
   "cell_type": "code",
   "execution_count": 12,
   "id": "b3efdbfd",
   "metadata": {},
   "outputs": [],
   "source": [
    "import os\n",
    "import csv"
   ]
  },
  {
   "cell_type": "code",
   "execution_count": 29,
   "id": "40a6faea",
   "metadata": {},
   "outputs": [],
   "source": [
    "csvpath = os.path.join('budget_data.csv')\n",
    "PyBank_txt_path = os.path.join('PyBank_txt_results.txt')"
   ]
  },
  {
   "cell_type": "code",
   "execution_count": 14,
   "id": "870dcf61",
   "metadata": {
    "scrolled": true
   },
   "outputs": [
    {
     "name": "stdout",
     "output_type": "stream",
     "text": [
      "1852539\n",
      "2174552\n",
      "2105135\n",
      "2415638\n",
      "2938495\n",
      "3971591\n",
      "4576476\n",
      "4360090\n",
      "4837622\n",
      "5731432\n",
      "5651079\n",
      "6430885\n",
      "6095682\n",
      "6793527\n",
      "7586690\n",
      "8071760\n",
      "8655882\n",
      "8718611\n",
      "9386790\n",
      "10286696\n",
      "11121415\n",
      "11253418\n",
      "11563396\n",
      "10807830\n",
      "11978423\n",
      "12231211\n",
      "13382729\n",
      "14199985\n",
      "14770742\n",
      "15277444\n",
      "14254910\n",
      "14729972\n",
      "15509948\n",
      "15654123\n",
      "16196617\n",
      "16555950\n",
      "16877419\n",
      "16945199\n",
      "17416634\n",
      "17982237\n",
      "18854717\n",
      "19644197\n",
      "20644139\n",
      "19447914\n",
      "19716911\n",
      "19028925\n",
      "20179386\n",
      "20861844\n",
      "21479700\n",
      "22303798\n",
      "22885741\n",
      "23018605\n",
      "23466667\n",
      "24155828\n",
      "24956529\n",
      "26123172\n",
      "27070505\n",
      "27649173\n",
      "28637678\n",
      "29777393\n",
      "30806864\n",
      "31494397\n",
      "30969771\n",
      "31128391\n",
      "31216186\n",
      "31639575\n",
      "32480298\n",
      "33048827\n",
      "33380894\n",
      "34370393\n",
      "35148630\n",
      "35798630\n",
      "34698243\n",
      "34523297\n",
      "35280440\n",
      "35726149\n",
      "36439110\n",
      "35275313\n",
      "35845212\n",
      "36613662\n",
      "36716347\n",
      "37512261\n",
      "37573249\n",
      "37711479\n",
      "38382578\n"
     ]
    }
   ],
   "source": [
    "with open(csvpath, \"r\") as csvfile:\n",
    "    csvreader = csv.reader(csvfile, delimiter=',')\n",
    "\n",
    "    csv_header = next(csvreader)\n",
    "    total_months= 1\n",
    "    profit = 867884\n",
    "    first_row = next(csvreader)\n",
    "    previous_row = int(first_row[1])\n",
    "    change_list =[]   \n",
    "    dict_budget = {}\n",
    "\n",
    "\n",
    "    for row in csvreader:\n",
    "        total_months +=1\n",
    "        profit += int(row[1])\n",
    "        change=int(row[1])-previous_row\n",
    "        previous_row = int(row[1])\n",
    "        change_list.append(change)\n",
    "        dict_budget[row[0]] = change\n",
    "        #print(row)\n",
    "        #print(change)\n",
    "        print(profit)"
   ]
  },
  {
   "cell_type": "code",
   "execution_count": 15,
   "id": "7673ae43",
   "metadata": {},
   "outputs": [
    {
     "name": "stdout",
     "output_type": "stream",
     "text": [
      "86\n"
     ]
    }
   ],
   "source": [
    "# Print total months\n",
    "print(total_months)"
   ]
  },
  {
   "cell_type": "code",
   "execution_count": 16,
   "id": "82759670",
   "metadata": {},
   "outputs": [
    {
     "name": "stdout",
     "output_type": "stream",
     "text": [
      "38382578\n"
     ]
    }
   ],
   "source": [
    "#Total of Profit and losses           \n",
    "print(profit)"
   ]
  },
  {
   "cell_type": "code",
   "execution_count": 17,
   "id": "9a14f87a",
   "metadata": {
    "scrolled": true
   },
   "outputs": [
    {
     "name": "stdout",
     "output_type": "stream",
     "text": [
      "-2315.1176470588234\n"
     ]
    }
   ],
   "source": [
    "# Print net change\n",
    "net_change = sum(change_list)/len(change_list)\n",
    "print(net_change)"
   ]
  },
  {
   "cell_type": "code",
   "execution_count": 18,
   "id": "1214375a",
   "metadata": {},
   "outputs": [
    {
     "name": "stdout",
     "output_type": "stream",
     "text": [
      "1926159\n"
     ]
    }
   ],
   "source": [
    "#Print max profit\n",
    "max_profit =max(change_list)\n",
    "print(max_profit)"
   ]
  },
  {
   "cell_type": "code",
   "execution_count": 19,
   "id": "d90465b3",
   "metadata": {},
   "outputs": [
    {
     "name": "stdout",
     "output_type": "stream",
     "text": [
      "-2196167\n"
     ]
    }
   ],
   "source": [
    "#Find the Min value of profit\n",
    "min_profit =min(change_list)\n",
    "print(min_profit)"
   ]
  },
  {
   "cell_type": "code",
   "execution_count": 20,
   "id": "d1e00887",
   "metadata": {},
   "outputs": [
    {
     "name": "stdout",
     "output_type": "stream",
     "text": [
      "{'Feb-10': 116771, 'Mar-10': -662642, 'Apr-10': -391430, 'May-10': 379920, 'Jun-10': 212354, 'Jul-10': 510239, 'Aug-10': -428211, 'Sep-10': -821271, 'Oct-10': 693918, 'Nov-10': 416278, 'Dec-10': -974163, 'Jan-11': 860159, 'Feb-11': -1115009, 'Mar-11': 1033048, 'Apr-11': 95318, 'May-11': -308093, 'Jun-11': 99052, 'Jul-11': -521393, 'Aug-11': 605450, 'Sep-11': 231727, 'Oct-11': -65187, 'Nov-11': -702716, 'Dec-11': 177975, 'Jan-12': -1065544, 'Feb-12': 1926159, 'Mar-12': -917805, 'Apr-12': 898730, 'May-12': -334262, 'Jun-12': -246499, 'Jul-12': -64055, 'Aug-12': -1529236, 'Sep-12': 1497596, 'Oct-12': 304914, 'Nov-12': -635801, 'Dec-12': 398319, 'Jan-13': -183161, 'Feb-13': -37864, 'Mar-13': -253689, 'Apr-13': 403655, 'May-13': 94168, 'Jun-13': 306877, 'Jul-13': -83000, 'Aug-13': 210462, 'Sep-13': -2196167, 'Oct-13': 1465222, 'Nov-13': -956983, 'Dec-13': 1838447, 'Jan-14': -468003, 'Feb-14': -64602, 'Mar-14': 206242, 'Apr-14': -242155, 'May-14': -449079, 'Jun-14': 315198, 'Jul-14': 241099, 'Aug-14': 111540, 'Sep-14': 365942, 'Oct-14': -219310, 'Nov-14': -368665, 'Dec-14': 409837, 'Jan-15': 151210, 'Feb-15': -110244, 'Mar-15': -341938, 'Apr-15': -1212159, 'May-15': 683246, 'Jun-15': -70825, 'Jul-15': 335594, 'Aug-15': 417334, 'Sep-15': -272194, 'Oct-15': -236462, 'Nov-15': 657432, 'Dec-15': -211262, 'Jan-16': -128237, 'Feb-16': -1750387, 'Mar-16': 925441, 'Apr-16': 932089, 'May-16': -311434, 'Jun-16': 267252, 'Jul-16': -1876758, 'Aug-16': 1733696, 'Sep-16': 198551, 'Oct-16': -665765, 'Nov-16': 693229, 'Dec-16': -734926, 'Jan-17': 77242, 'Feb-17': 532869}\n"
     ]
    }
   ],
   "source": [
    "# Check we have the dictionary correctly\n",
    "print(dict_budget)"
   ]
  },
  {
   "cell_type": "code",
   "execution_count": 21,
   "id": "b4aa4a97",
   "metadata": {},
   "outputs": [
    {
     "name": "stdout",
     "output_type": "stream",
     "text": [
      "Feb-12\n"
     ]
    }
   ],
   "source": [
    "# list out keys and values separately\n",
    "key_list = list(dict_budget.keys())\n",
    "val_list = list(dict_budget.values())\n",
    " \n",
    "# print the greatest increase month\n",
    "position1 = val_list.index(max_profit)\n",
    "print(key_list[position1])"
   ]
  },
  {
   "cell_type": "code",
   "execution_count": 22,
   "id": "f22edb31",
   "metadata": {},
   "outputs": [
    {
     "name": "stdout",
     "output_type": "stream",
     "text": [
      "Sep-13\n"
     ]
    }
   ],
   "source": [
    "# print the greatest decrease month\n",
    "position2 = val_list.index(min_profit)\n",
    "print(key_list[position2])"
   ]
  },
  {
   "cell_type": "code",
   "execution_count": 23,
   "id": "c7fa05c2",
   "metadata": {},
   "outputs": [
    {
     "name": "stdout",
     "output_type": "stream",
     "text": [
      "Financial Analysis\n",
      " -----------------------\n",
      " Total Months: 86\n",
      " Total: $38382578\n",
      " Average Change: $-2315.12\n",
      " Greatest Increase in Profit: Feb-12 ($1926159)\n",
      " Greatest Decrease in Profits: Sep-13 ($-2196167)\n"
     ]
    }
   ],
   "source": [
    "print(\"Financial Analysis\\n -----------------------\\n Total Months: {}\\n Total: ${}\\n Average Change: ${:.2f}\\n Greatest Increase in Profit: {} (${})\\n Greatest Decrease in Profits: {} (${})\".format(total_months,profit,net_change,key_list[position1],max_profit,key_list[position2],min_profit))"
   ]
  },
  {
   "cell_type": "code",
   "execution_count": 30,
   "id": "ed892e0f",
   "metadata": {},
   "outputs": [],
   "source": [
    "with open(PyBank_txt_path, \"w\") as txt_file:\n",
    "    txt_file.write(\" Financial Analysis\\n -----------------------\\n Total Months: 86 \\n Total: $38382578\\n Average Change: $-2315.12\\n Greatest Increase in Profit: Feb-12 ($1926159)\\n Greatest Decrease in Profits: Sep-13 ($-2196167)\")"
   ]
  },
  {
   "cell_type": "code",
   "execution_count": null,
   "id": "73e99473",
   "metadata": {},
   "outputs": [],
   "source": []
  }
 ],
 "metadata": {
  "kernelspec": {
   "display_name": "Python 3 (ipykernel)",
   "language": "python",
   "name": "python3"
  },
  "language_info": {
   "codemirror_mode": {
    "name": "ipython",
    "version": 3
   },
   "file_extension": ".py",
   "mimetype": "text/x-python",
   "name": "python",
   "nbconvert_exporter": "python",
   "pygments_lexer": "ipython3",
   "version": "3.8.8"
  }
 },
 "nbformat": 4,
 "nbformat_minor": 5
}
