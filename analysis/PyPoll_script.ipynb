{
 "cells": [
  {
   "cell_type": "code",
   "execution_count": 3,
   "id": "73c84842",
   "metadata": {},
   "outputs": [],
   "source": [
    "import os\n",
    "import csv"
   ]
  },
  {
   "cell_type": "code",
   "execution_count": 28,
   "id": "7b1e345a",
   "metadata": {},
   "outputs": [],
   "source": [
    "csvpath = os.path.join('election_data.csv')\n",
    "PyPoll_txt_path = os.path.join('PyPoll_txt_results.txt')"
   ]
  },
  {
   "cell_type": "code",
   "execution_count": 15,
   "id": "273a4da2",
   "metadata": {},
   "outputs": [],
   "source": [
    "with open(csvpath, \"r\") as csvfile:\n",
    "    csvreader = csv.reader(csvfile, delimiter=',')\n",
    "    \n",
    "    csv_header = next(csvreader)\n",
    "    \n",
    "    total_votes = 1\n",
    "    candidate = []\n",
    "    votes = {}\n",
    "    \n",
    "    \n",
    "    for row in csvreader:\n",
    "        total_votes += 1\n",
    "        candidates = row[2]        \n",
    "        if candidates not in candidate:\n",
    "            candidate.append(candidates)\n",
    "            votes[candidates] = 0\n",
    "        \n",
    "        votes[candidates] = votes[candidates] + 1\n"
   ]
  },
  {
   "cell_type": "code",
   "execution_count": 16,
   "id": "22b510b6",
   "metadata": {},
   "outputs": [
    {
     "name": "stdout",
     "output_type": "stream",
     "text": [
      "1048576\n"
     ]
    }
   ],
   "source": [
    "print(total_votes)"
   ]
  },
  {
   "cell_type": "code",
   "execution_count": 17,
   "id": "78e97207",
   "metadata": {},
   "outputs": [
    {
     "name": "stdout",
     "output_type": "stream",
     "text": [
      "['Khan', 'Correy', 'Li', \"O'Tooley\"]\n"
     ]
    }
   ],
   "source": [
    "# A complete list of candidates who received votes\n",
    "print(candidate)"
   ]
  },
  {
   "cell_type": "code",
   "execution_count": 18,
   "id": "98a506b4",
   "metadata": {},
   "outputs": [
    {
     "name": "stdout",
     "output_type": "stream",
     "text": [
      "{'Khan': 661583, 'Correy': 209046, 'Li': 146360, \"O'Tooley\": 31586}\n"
     ]
    }
   ],
   "source": [
    "# The percentage of votes each candidate won\n",
    "print(votes)\n",
    "\n"
   ]
  },
  {
   "cell_type": "code",
   "execution_count": 19,
   "id": "d68b6d30",
   "metadata": {},
   "outputs": [
    {
     "name": "stdout",
     "output_type": "stream",
     "text": [
      "{'Khan': 661583, 'Correy': 209046, 'Li': 146360, \"O'Tooley\": 31586}\n"
     ]
    }
   ],
   "source": [
    "# The total number of votes each candidate won\n",
    "print(votes)"
   ]
  },
  {
   "cell_type": "code",
   "execution_count": 20,
   "id": "e43335fc",
   "metadata": {},
   "outputs": [
    {
     "name": "stdout",
     "output_type": "stream",
     "text": [
      "Correy\n"
     ]
    }
   ],
   "source": [
    "# The winner of the election based on popular vote\n",
    "winner = min(votes)\n",
    "print(winner)"
   ]
  },
  {
   "cell_type": "code",
   "execution_count": 21,
   "id": "2ded63ec",
   "metadata": {},
   "outputs": [
    {
     "name": "stdout",
     "output_type": "stream",
     "text": [
      "63.09347152709961\n",
      "13.957977294921875\n",
      "19.936180114746094\n",
      "3.0122756958007812\n",
      "63.09347152709961\n",
      "661583\n"
     ]
    }
   ],
   "source": [
    "print((votes[\"Khan\"] / total_votes)*100)\n",
    "print((votes[\"Li\"] / total_votes)*100)\n",
    "print((votes[\"Correy\"] / total_votes)*100)\n",
    "print((votes[\"O'Tooley\"] / total_votes)*100)\n",
    "Khan_perc = (votes[\"Khan\"] / total_votes)*100\n",
    "Li_perc = (votes[\"Li\"] / total_votes)*100\n",
    "Correy_perc = (votes[\"Correy\"] / total_votes)*100\n",
    "Tooley_perc = (votes[\"O'Tooley\"] / total_votes)*100\n",
    "print(Khan_perc)\n",
    "print(votes[\"Khan\"])"
   ]
  },
  {
   "cell_type": "code",
   "execution_count": 22,
   "id": "3a31a7f3",
   "metadata": {},
   "outputs": [
    {
     "name": "stdout",
     "output_type": "stream",
     "text": [
      "Election Results\n",
      " -----------------------\n",
      " Total Votes: 1048576 \n",
      " -----------------------\n",
      " Khan: 63.09% (661583) \n",
      " Correy: 13.96% (146360)\n",
      " Li: 19.94% (209046)\n",
      " O'Tooley: 3.01% (31586)\n",
      " -----------------------\n",
      " Winner: Khan \n",
      " -----------------------\n"
     ]
    }
   ],
   "source": [
    "print(\"Election Results\\n -----------------------\\n Total Votes: {} \\n -----------------------\\n Khan: {:.2f}% ({}) \\n Correy: {:.2f}% ({})\\n Li: {:.2f}% ({})\\n O'Tooley: {:.2f}% ({})\\n -----------------------\\n Winner: Khan \\n -----------------------\".format(total_votes,Khan_perc,votes[\"Khan\"],Li_perc,votes[\"Li\"],Correy_perc,votes[\"Correy\"],Tooley_perc,votes[\"O'Tooley\"]))"
   ]
  },
  {
   "cell_type": "code",
   "execution_count": 29,
   "id": "9e94c6d1",
   "metadata": {},
   "outputs": [],
   "source": [
    "with open(PyPoll_txt_path, \"w\") as txt_file:\n",
    "    txt_file.write(\" Election Results\\n -----------------------\\n Total Votes: 1048576 \\n ----------------------- \\n Khan: 63.09% (661583)\\n Correy: 13.96% (146360)\\n Li: 19.94% (209046) \\n O'Tooley: 3.01% (31586) \\n -----------------------\\n Winner: Khan \\n ----------------------\")\n"
   ]
  },
  {
   "cell_type": "code",
   "execution_count": null,
   "id": "fdc0a37a",
   "metadata": {},
   "outputs": [],
   "source": []
  },
  {
   "cell_type": "code",
   "execution_count": null,
   "id": "f1e33e8b",
   "metadata": {},
   "outputs": [],
   "source": []
  }
 ],
 "metadata": {
  "kernelspec": {
   "display_name": "Python 3 (ipykernel)",
   "language": "python",
   "name": "python3"
  },
  "language_info": {
   "codemirror_mode": {
    "name": "ipython",
    "version": 3
   },
   "file_extension": ".py",
   "mimetype": "text/x-python",
   "name": "python",
   "nbconvert_exporter": "python",
   "pygments_lexer": "ipython3",
   "version": "3.8.8"
  }
 },
 "nbformat": 4,
 "nbformat_minor": 5
}
